{
 "cells": [
  {
   "cell_type": "markdown",
   "id": "c9e17fb5",
   "metadata": {},
   "source": [
    "## Math in python \n",
    "---"
   ]
  },
  {
   "cell_type": "markdown",
   "id": "ac66d920",
   "metadata": {},
   "source": [
    "### Imports"
   ]
  },
  {
   "cell_type": "code",
   "execution_count": 3,
   "id": "bd18ce64",
   "metadata": {},
   "outputs": [],
   "source": [
    "import numpy as np\n",
    "import scipy as sp\n",
    "import matplotlib.pyplot as plt"
   ]
  },
  {
   "cell_type": "markdown",
   "id": "f8edb8d7",
   "metadata": {},
   "source": [
    "### NumPy arrays"
   ]
  },
  {
   "cell_type": "code",
   "execution_count": null,
   "id": "15b5d1c2",
   "metadata": {},
   "outputs": [
    {
     "name": "stdout",
     "output_type": "stream",
     "text": [
      "a: [1 2 3] shape: (3,) dtype: int64\n",
      "b: [[1 2 3]\n",
      " [4 5 6]] shape: (2, 3) dtype: int64\n"
     ]
    }
   ],
   "source": [
    "# 1D and 2D arrays, check shape & dtype\n",
    "a = np.array([1, 2, 3])\n",
    "b = np.array([[1, 2, 3],\n",
    "              [4, 5, 6]])\n",
    "print(\"a:\", a, \"shape:\", a.shape, \"dtype:\", a.dtype)\n",
    "print(\"b:\", b, \"shape:\", b.shape, \"dtype:\", b.dtype)"
   ]
  },
  {
   "cell_type": "code",
   "execution_count": 8,
   "id": "cb016cb7",
   "metadata": {},
   "outputs": [
    {
     "name": "stdout",
     "output_type": "stream",
     "text": [
      "c: [11 12 13]\n",
      "d: [2 4 6]\n",
      "dot(a,[4,5,6]): 32\n",
      "f: [2 3 4]\n"
     ]
    }
   ],
   "source": [
    "# Cell 2: Vectorized arithmetic & dot product\n",
    "c = a + 10           # add scalar\n",
    "d = a * 2            # multiply by scalar\n",
    "e = np.array([1, 1, 1])\n",
    "f = a + e           # add vector\n",
    "\n",
    "dot = np.dot(a, [4,5,6])  # dot product\n",
    "print(\"c:\", c)\n",
    "print(\"d:\", d)\n",
    "print(\"dot(a,[4,5,6]):\", dot)\n",
    "print(\"f:\", f)\n"
   ]
  },
  {
   "cell_type": "code",
   "execution_count": null,
   "id": "56377b19",
   "metadata": {},
   "outputs": [
    {
     "name": "stdout",
     "output_type": "stream",
     "text": [
      "sum_bc:\n",
      " [[2 4 6]\n",
      " [5 7 9]]\n"
     ]
    }
   ],
   "source": [
    "\n",
    "\n"
   ]
  }
 ],
 "metadata": {
  "kernelspec": {
   "display_name": "Python 3",
   "language": "python",
   "name": "python3"
  },
  "language_info": {
   "codemirror_mode": {
    "name": "ipython",
    "version": 3
   },
   "file_extension": ".py",
   "mimetype": "text/x-python",
   "name": "python",
   "nbconvert_exporter": "python",
   "pygments_lexer": "ipython3",
   "version": "3.13.5"
  }
 },
 "nbformat": 4,
 "nbformat_minor": 5
}
