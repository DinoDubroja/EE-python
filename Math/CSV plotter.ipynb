{
 "cells": [
  {
   "cell_type": "markdown",
   "id": "3ca47e47",
   "metadata": {},
   "source": [
    "## CSV plotter\n",
    "---"
   ]
  },
  {
   "cell_type": "code",
   "execution_count": 1,
   "id": "341e118a",
   "metadata": {},
   "outputs": [
    {
     "data": {
      "application/vnd.jupyter.widget-view+json": {
       "model_id": "4d043dd4a4b74372a21a93554e3320ba",
       "version_major": 2,
       "version_minor": 0
      },
      "text/plain": [
       "interactive(children=(Dropdown(description='File:', options=('SDS00001_bode.csv', 'SDS00002_bode.csv', 'SDS000…"
      ]
     },
     "metadata": {},
     "output_type": "display_data"
    },
    {
     "data": {
      "application/vnd.jupyter.widget-view+json": {
       "model_id": "bf8166032dca4bae9e504cdee74bd1ac",
       "version_major": 2,
       "version_minor": 0
      },
      "text/plain": [
       "interactive(children=(SelectMultiple(description='Files:', options=('SDS00001_bode.csv', 'SDS00002_bode.csv', …"
      ]
     },
     "metadata": {},
     "output_type": "display_data"
    },
    {
     "data": {
      "text/plain": [
       "<function __main__.plot_multiple_bode(files)>"
      ]
     },
     "execution_count": 1,
     "metadata": {},
     "output_type": "execute_result"
    }
   ],
   "source": [
    "# ── Cell 1: specify data directory ──\n",
    "import os\n",
    "\n",
    "# Paste your folder path here. Use a raw string (prefix r) to handle backslashes on Windows.\n",
    "data_dir = r\"E:\"  # ← replace with your actual folder path\n",
    "\n",
    "# ── Cell 2: imports ──\n",
    "import pandas as pd\n",
    "import matplotlib.pyplot as plt\n",
    "from ipywidgets import interact, Dropdown, SelectMultiple\n",
    "\n",
    "plt.rcParams['figure.figsize'] = (8, 6)\n",
    "\n",
    "# ── Cell 3: loader ──\n",
    "def load_bode_csv(path):\n",
    "    \"\"\"\n",
    "    Reads a Siglent Bode‐plot CSV, skipping the metadata header so that\n",
    "    the first row becomes: Frequency(Hz), CH2 Amplitude(dB), CH2 Phase(Deg)\n",
    "    \"\"\"\n",
    "    return pd.read_csv(path, skiprows=27)\n",
    "\n",
    "# ── Cell 4: single‐file plotter ──\n",
    "def plot_bode(df, title=None):\n",
    "    freq = df.iloc[:, 0]\n",
    "    mag  = df.iloc[:, 1]\n",
    "    ph   = df.iloc[:, 2]\n",
    "\n",
    "    fig, (ax1, ax2) = plt.subplots(2, 1, sharex=True)\n",
    "    ax1.semilogx(freq, mag)\n",
    "    ax1.set_ylabel('Amplitude (dB)')\n",
    "    if title:\n",
    "        ax1.set_title(title)\n",
    "    ax1.grid(True, which='both', linestyle='--', linewidth=0.5)\n",
    "\n",
    "    ax2.semilogx(freq, ph)\n",
    "    ax2.set_xlabel('Frequency (Hz)')\n",
    "    ax2.set_ylabel('Phase (°)')\n",
    "    ax2.grid(True, which='both', linestyle='--', linewidth=0.5)\n",
    "\n",
    "    plt.tight_layout()\n",
    "    plt.show()\n",
    "\n",
    "# ── Cell 5: multi‐file plotter (overlay) ──\n",
    "def plot_multiple_bode(files):\n",
    "    fig, (ax1, ax2) = plt.subplots(2, 1, sharex=True)\n",
    "    for fn in files:\n",
    "        full_path = os.path.join(data_dir, fn)\n",
    "        df = load_bode_csv(full_path)\n",
    "        freq, mag, ph = df.iloc[:,0], df.iloc[:,1], df.iloc[:,2]\n",
    "        ax1.semilogx(freq, mag, label=fn)\n",
    "        ax2.semilogx(freq, ph, label=fn)\n",
    "\n",
    "    ax1.set_ylabel('Amplitude (dB)')\n",
    "    ax1.grid(True, which='both', linestyle='--', linewidth=0.5)\n",
    "    ax1.legend()\n",
    "\n",
    "    ax2.set_xlabel('Frequency (Hz)')\n",
    "    ax2.set_ylabel('Phase (°)')\n",
    "    ax2.grid(True, which='both', linestyle='--', linewidth=0.5)\n",
    "    ax2.legend()\n",
    "\n",
    "    plt.tight_layout()\n",
    "    plt.show()\n",
    "\n",
    "# ── Cell 6: discover your CSVs ──\n",
    "csv_files = sorted(f for f in os.listdir(data_dir) if f.lower().endswith('_bode.csv'))\n",
    "\n",
    "# Display available files\n",
    "csv_files\n",
    "\n",
    "# ── Cell 7a: pick one file to view ──\n",
    "interact(\n",
    "    lambda fn: plot_bode(load_bode_csv(os.path.join(data_dir, fn)), title=fn),\n",
    "    fn=Dropdown(options=csv_files, description='File:')\n",
    ")\n",
    "\n",
    "# ── Cell 7b: overlay multiple files ──\n",
    "interact(\n",
    "    plot_multiple_bode,\n",
    "    files=SelectMultiple(options=csv_files, description='Files:')\n",
    ")\n"
   ]
  },
  {
   "cell_type": "code",
   "execution_count": 10,
   "id": "b3c21559",
   "metadata": {},
   "outputs": [
    {
     "data": {
      "text/plain": [
       "['SDS00001_bode.csv',\n",
       " 'SDS00002_bode.csv',\n",
       " 'SDS00003_bode.csv',\n",
       " 'SDS00004_bode.csv']"
      ]
     },
     "execution_count": 10,
     "metadata": {},
     "output_type": "execute_result"
    }
   ],
   "source": [
    "data_dir = r\"E:\"\n",
    "\n",
    "csv_files = sorted(f for f in os.listdir(data_dir) if f.lower().endswith('_bode.csv'))\n",
    "csv_files"
   ]
  },
  {
   "cell_type": "code",
   "execution_count": null,
   "id": "55525e97",
   "metadata": {},
   "outputs": [
    {
     "data": {
      "application/vnd.jupyter.widget-view+json": {
       "model_id": "8b474d5a8ba447eb83d2b4a82f02d9b0",
       "version_major": 2,
       "version_minor": 0
      },
      "text/plain": [
       "interactive(children=(Dropdown(description='File:', options=('SDS00001_bode.csv', 'SDS00002_bode.csv', 'SDS000…"
      ]
     },
     "metadata": {},
     "output_type": "display_data"
    },
    {
     "data": {
      "text/plain": [
       "<function __main__.<lambda>(fn)>"
      ]
     },
     "execution_count": 11,
     "metadata": {},
     "output_type": "execute_result"
    }
   ],
   "source": [
    "interact(\n",
    "    lambda fn: plot_bode(load_bode_csv(fn), title=fn),\n",
    "    fn=Dropdown(options=csv_files, description='File:')\n",
    ")"
   ]
  },
  {
   "cell_type": "code",
   "execution_count": null,
   "id": "182e8206",
   "metadata": {},
   "outputs": [],
   "source": [
    "interact(\n",
    "    plot_multiple_bode,\n",
    "    files=SelectMultiple(options=csv_files, description='Files:')\n",
    ")"
   ]
  }
 ],
 "metadata": {
  "kernelspec": {
   "display_name": "Python 3",
   "language": "python",
   "name": "python3"
  },
  "language_info": {
   "codemirror_mode": {
    "name": "ipython",
    "version": 3
   },
   "file_extension": ".py",
   "mimetype": "text/x-python",
   "name": "python",
   "nbconvert_exporter": "python",
   "pygments_lexer": "ipython3",
   "version": "3.11.1"
  }
 },
 "nbformat": 4,
 "nbformat_minor": 5
}
