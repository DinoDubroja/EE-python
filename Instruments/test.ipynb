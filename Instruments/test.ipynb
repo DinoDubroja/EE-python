{
 "cells": [
  {
   "cell_type": "code",
   "execution_count": 1,
   "id": "c0621a5c",
   "metadata": {},
   "outputs": [],
   "source": [
    "# Connect to a LAN instrument using PyVISA\n",
    "%load_ext autoreload\n",
    "%autoreload 2\n",
    "\n",
    "\n",
    "import pyvisa\n",
    "from sds3303x import SDS3303X\n",
    "\n",
    "PSU = SDS3303X(\"TCPIP0::192.168.1.137::5025::SOCKET\")\n",
    "PSU.disconnect()\n",
    "PSU.connect()\n",
    "\n"
   ]
  },
  {
   "cell_type": "code",
   "execution_count": 10,
   "id": "777d2ef9",
   "metadata": {},
   "outputs": [],
   "source": [
    "PSU.set_voltage(0.011)\n",
    "PSU.set_current(0.6)\n",
    "PSU.output_on()"
   ]
  },
  {
   "cell_type": "code",
   "execution_count": 14,
   "id": "c1c5ae70",
   "metadata": {},
   "outputs": [],
   "source": [
    "PSU.set_voltage(29.500, channel=2)"
   ]
  },
  {
   "cell_type": "code",
   "execution_count": 11,
   "id": "b57befbf",
   "metadata": {},
   "outputs": [
    {
     "name": "stdout",
     "output_type": "stream",
     "text": [
      "0.012 V\n"
     ]
    }
   ],
   "source": [
    "print(f\"{PSU.measure_voltage():.3f} V\")"
   ]
  },
  {
   "cell_type": "code",
   "execution_count": 13,
   "id": "1ce0bf63",
   "metadata": {},
   "outputs": [
    {
     "data": {
      "text/plain": [
       "'Siglent Technologies,SPD3303X,SPD3XJFD6R7342,1.01.01.03.10,V6.1'"
      ]
     },
     "execution_count": 13,
     "metadata": {},
     "output_type": "execute_result"
    }
   ],
   "source": [
    "PSU.identify()"
   ]
  }
 ],
 "metadata": {
  "kernelspec": {
   "display_name": "Python 3",
   "language": "python",
   "name": "python3"
  },
  "language_info": {
   "codemirror_mode": {
    "name": "ipython",
    "version": 3
   },
   "file_extension": ".py",
   "mimetype": "text/x-python",
   "name": "python",
   "nbconvert_exporter": "python",
   "pygments_lexer": "ipython3",
   "version": "3.13.5"
  }
 },
 "nbformat": 4,
 "nbformat_minor": 5
}
