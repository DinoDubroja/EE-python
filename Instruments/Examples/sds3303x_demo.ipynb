{
 "cells": [
  {
   "cell_type": "markdown",
   "id": "d557101c",
   "metadata": {},
   "source": [
    "# SDS3303X Power supply\n",
    "---"
   ]
  },
  {
   "cell_type": "code",
   "execution_count": 1,
   "id": "3957e069",
   "metadata": {},
   "outputs": [
    {
     "name": "stdout",
     "output_type": "stream",
     "text": [
      "Siglent Technologies,SPD3303X,SPD3XJFD6R7342,1.01.01.03.10,V6.1\n"
     ]
    }
   ],
   "source": [
    "import sys, os\n",
    "sys.path.insert(0, r\"C:\\Users\\dinod\\Desktop\\EE python\\EE-python\\Instruments\")\n",
    "\n",
    "from SDG3303X.sds3303x import SDS3303X\n",
    "\n",
    "\n",
    "## Establlish a LAN connection to the power supply\n",
    "psu = SDS3303X(\"TCPIP0::192.168.1.137::5025::SOCKET\")\n",
    "psu.connect()\n",
    "\n",
    "## Check the connection\n",
    "print(psu.identify())"
   ]
  },
  {
   "cell_type": "code",
   "execution_count": 2,
   "id": "7950cff8",
   "metadata": {},
   "outputs": [
    {
     "name": "stdout",
     "output_type": "stream",
     "text": [
      "Outputs turned on for both channels.\n"
     ]
    }
   ],
   "source": [
    "psu.set_voltage(1.050) # Set voltage to 1.050V (default channel 1)\n",
    "psu.set_current(0.500) # Set current limit to 0.500A (default channel 1)\n",
    "psu.set_voltage(3.300, channel=2) # Set voltage to 3.300V on channel 2\n",
    "psu.set_current(1.000, channel=2) # Set current limit to 1.000A on channel 2\n",
    "\n",
    "psu.output_on(channel=1)  # Turn on output for channel 1\n",
    "psu.output_on(channel=2)  # Turn on output for channel 2\n",
    "print(\"Outputs turned on for both channels.\")\n"
   ]
  },
  {
   "cell_type": "code",
   "execution_count": 3,
   "id": "296a8460",
   "metadata": {},
   "outputs": [
    {
     "name": "stdout",
     "output_type": "stream",
     "text": [
      "Channel 1 set Voltage: 1.05 V\n",
      "Channel 1 set Current: 0.5 A\n",
      "\n",
      "Channel 1 measured Voltage: 1.052 V\n",
      "Channel 1 measured Current: 0.0 A\n",
      "\n",
      "Outputs turned off for both channels.\n",
      "Channel 1 measured Voltage: 0.0 V\n",
      "Channel 1 measured Current: 0.0 A\n"
     ]
    }
   ],
   "source": [
    "voltage_ch1_measured = psu.measure_voltage(channel=1)  # Get voltage from channel 1\n",
    "current_ch1_measured = psu.measure_current(channel=1)  # Get current from channel\n",
    "print(f\"Channel 1 set Voltage: {psu.get_voltage(channel=1)} V\")\n",
    "print(f\"Channel 1 set Current: {psu.get_current(channel=1)} A\")\n",
    "print()\n",
    "print(f\"Channel 1 measured Voltage: {voltage_ch1_measured} V\")\n",
    "print(f\"Channel 1 measured Current: {current_ch1_measured} A\")\n",
    "print()\n",
    "\n",
    "psu.output_off(channel=1)  # Turn off output for channel 1\n",
    "psu.output_off(channel=2)  # Turn off output for channel 2\n",
    "print(\"Outputs turned off for both channels.\")\n",
    "\n",
    "voltage_ch1_measured = psu.measure_voltage(channel=1)  # Get voltage from channel 1\n",
    "current_ch1_measured = psu.measure_current(channel=1)  # Get current from channel\n",
    "print(f\"Channel 1 measured Voltage: {voltage_ch1_measured} V\")\n",
    "print(f\"Channel 1 measured Current: {current_ch1_measured} A\")"
   ]
  }
 ],
 "metadata": {
  "kernelspec": {
   "display_name": "Python 3",
   "language": "python",
   "name": "python3"
  },
  "language_info": {
   "codemirror_mode": {
    "name": "ipython",
    "version": 3
   },
   "file_extension": ".py",
   "mimetype": "text/x-python",
   "name": "python",
   "nbconvert_exporter": "python",
   "pygments_lexer": "ipython3",
   "version": "3.13.5"
  }
 },
 "nbformat": 4,
 "nbformat_minor": 5
}
