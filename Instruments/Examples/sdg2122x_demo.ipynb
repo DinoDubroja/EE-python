{
 "cells": [
  {
   "cell_type": "markdown",
   "id": "30b3e1cc",
   "metadata": {},
   "source": [
    "# SDG2122X examples\n",
    "---"
   ]
  },
  {
   "cell_type": "code",
   "execution_count": 1,
   "id": "5fdfe5ad",
   "metadata": {},
   "outputs": [
    {
     "ename": "ModuleNotFoundError",
     "evalue": "No module named 'SDG2122X'",
     "output_type": "error",
     "traceback": [
      "\u001b[31m---------------------------------------------------------------------------\u001b[39m",
      "\u001b[31mModuleNotFoundError\u001b[39m                       Traceback (most recent call last)",
      "\u001b[36mCell\u001b[39m\u001b[36m \u001b[39m\u001b[32mIn[1]\u001b[39m\u001b[32m, line 1\u001b[39m\n\u001b[32m----> \u001b[39m\u001b[32m1\u001b[39m \u001b[38;5;28;01mfrom\u001b[39;00m\u001b[38;5;250m \u001b[39m\u001b[34;01mSDG2122X\u001b[39;00m\u001b[38;5;250m \u001b[39m\u001b[38;5;28;01mimport\u001b[39;00m SDG2122X\n\u001b[32m      2\u001b[39m \u001b[38;5;28;01mimport\u001b[39;00m\u001b[38;5;250m \u001b[39m\u001b[34;01mtime\u001b[39;00m\n\u001b[32m      4\u001b[39m \u001b[38;5;66;03m# Connect to the device\u001b[39;00m\n",
      "\u001b[31mModuleNotFoundError\u001b[39m: No module named 'SDG2122X'"
     ]
    }
   ],
   "source": [
    "\n",
    "\n",
    "from SDG2122X import SDG2122X\n",
    "import time\n",
    "\n",
    "# Connect to the device\n",
    "awg = SDG2122X(\"TCPIP0::192.168.1.214::5025::SOCKET\")\n",
    "awg.connect()\n",
    "awg.identify()"
   ]
  },
  {
   "cell_type": "markdown",
   "id": "ddd1ddc7",
   "metadata": {},
   "source": [
    "## Basic waveform generation\n",
    "---"
   ]
  },
  {
   "cell_type": "markdown",
   "id": "3f8ea335",
   "metadata": {},
   "source": [
    "### Sinewave \n",
    "1kHz 3V amplitude on channel 1"
   ]
  },
  {
   "cell_type": "code",
   "execution_count": 1,
   "id": "b3dc696a",
   "metadata": {},
   "outputs": [
    {
     "ename": "NameError",
     "evalue": "name 'awg' is not defined",
     "output_type": "error",
     "traceback": [
      "\u001b[31m---------------------------------------------------------------------------\u001b[39m",
      "\u001b[31mNameError\u001b[39m                                 Traceback (most recent call last)",
      "\u001b[36mCell\u001b[39m\u001b[36m \u001b[39m\u001b[32mIn[1]\u001b[39m\u001b[32m, line 1\u001b[39m\n\u001b[32m----> \u001b[39m\u001b[32m1\u001b[39m \u001b[43mawg\u001b[49m.channel(\u001b[32m1\u001b[39m).sine(frequency=\u001b[32m1000\u001b[39m, amplitude=\u001b[32m3.0\u001b[39m, offset=\u001b[32m0.0\u001b[39m, phase=\u001b[32m20\u001b[39m)\n\u001b[32m      2\u001b[39m time.sleep(\u001b[32m0.2\u001b[39m) \n\u001b[32m      3\u001b[39m awg.channel(\u001b[32m1\u001b[39m).on()\n",
      "\u001b[31mNameError\u001b[39m: name 'awg' is not defined"
     ]
    }
   ],
   "source": [
    "awg.channel(1).sine(frequency=1000, amplitude=3.0, offset=0.0, phase=20)\n",
    "time.sleep(0.2) \n",
    "awg.channel(1).on()\n",
    "time.sleep(7)\n",
    "awg.channel(1).off()"
   ]
  },
  {
   "cell_type": "markdown",
   "id": "9b2892f7",
   "metadata": {},
   "source": [
    "### Squarewave\n",
    "1kHz 4V to 2V, 20% duty cycle"
   ]
  },
  {
   "cell_type": "code",
   "execution_count": 10,
   "id": "6a3ac45c",
   "metadata": {},
   "outputs": [],
   "source": [
    "time.sleep(0.2)\n",
    "awg.channel(1).square(frequency=1000, high_level=4, low_level=2, duty_cycle=20)\n",
    "time.sleep(0.2) \n",
    "awg.channel(1).on()\n",
    "time.sleep(5)\n",
    "awg.channel(1).off()"
   ]
  },
  {
   "cell_type": "markdown",
   "id": "994360f3",
   "metadata": {},
   "source": [
    "### Triangle\n"
   ]
  },
  {
   "cell_type": "code",
   "execution_count": 12,
   "id": "fb8011a6",
   "metadata": {},
   "outputs": [],
   "source": [
    "time.sleep(0.2)\n",
    "awg.channel(1).triangle(frequency=1000, amplitude = 3)\n",
    "time.sleep(0.2) \n",
    "awg.channel(1).on()"
   ]
  },
  {
   "cell_type": "markdown",
   "id": "e94d03c6",
   "metadata": {},
   "source": [
    "### Modulation"
   ]
  },
  {
   "cell_type": "code",
   "execution_count": 4,
   "id": "f5298c7b",
   "metadata": {},
   "outputs": [],
   "source": [
    "time.sleep(0.2)\n",
    "awg.channel(1).modulation(type=\"AM\",frequency=1, depth=60)\n",
    "time.sleep(7)\n",
    "\n",
    "time.sleep(0.2)\n",
    "awg.channel(1).modulation(type=\"FM\",frequency=1, deviation=300)\n",
    "time.sleep(7)\n",
    "\n",
    "awg.channel(1).modulation_off()"
   ]
  },
  {
   "cell_type": "markdown",
   "id": "8775a0f2",
   "metadata": {},
   "source": [
    "### Frequency sweep"
   ]
  },
  {
   "cell_type": "code",
   "execution_count": null,
   "id": "4077f22d",
   "metadata": {},
   "outputs": [],
   "source": [
    "time.sleep(0.2)\n",
    "awg.channel(1).sweep(start_freq=100, stop_freq=10000, mode=\"LINE\")\n",
    "time.sleep(7)\n",
    "awg.channel(1).sweep_off()\n"
   ]
  },
  {
   "cell_type": "markdown",
   "id": "69e3b544",
   "metadata": {},
   "source": [
    "### Burst"
   ]
  },
  {
   "cell_type": "code",
   "execution_count": null,
   "id": "f68c55e9",
   "metadata": {},
   "outputs": [],
   "source": [
    "time.sleep(0.2)\n",
    "awg.channel(1).burst()\n",
    "time.sleep(10)\n",
    "awg.channel(1).burst_off()\n"
   ]
  }
 ],
 "metadata": {
  "kernelspec": {
   "display_name": "Python 3",
   "language": "python",
   "name": "python3"
  },
  "language_info": {
   "codemirror_mode": {
    "name": "ipython",
    "version": 3
   },
   "file_extension": ".py",
   "mimetype": "text/x-python",
   "name": "python",
   "nbconvert_exporter": "python",
   "pygments_lexer": "ipython3",
   "version": "3.13.5"
  }
 },
 "nbformat": 4,
 "nbformat_minor": 5
}
