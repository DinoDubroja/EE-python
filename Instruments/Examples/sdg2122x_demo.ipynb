{
 "cells": [
  {
   "cell_type": "markdown",
   "id": "30b3e1cc",
   "metadata": {},
   "source": [
    "# SDG2122X examples\n",
    "---"
   ]
  },
  {
   "cell_type": "code",
   "execution_count": 2,
   "id": "5fdfe5ad",
   "metadata": {},
   "outputs": [
    {
     "data": {
      "text/plain": [
       "'Siglent Technologies,SDG2122X,SDG2XFBX7R1354,2.01.01.38R4'"
      ]
     },
     "execution_count": 2,
     "metadata": {},
     "output_type": "execute_result"
    }
   ],
   "source": [
    "import sys, os\n",
    "sys.path.insert(0, r\"C:\\Users\\dinod\\Desktop\\EE python\\EE-python\\Instruments\")\n",
    "\n",
    "from SDG2122X.SDG2122X import SDG2122X\n",
    "import time\n",
    "\n",
    "# Connect to the device\n",
    "awg = SDG2122X(\"TCPIP0::192.168.1.214::5025::SOCKET\")\n",
    "awg.connect()\n",
    "awg.identify()"
   ]
  },
  {
   "cell_type": "markdown",
   "id": "ddd1ddc7",
   "metadata": {},
   "source": [
    "## Basic waveform generation\n",
    "---"
   ]
  },
  {
   "cell_type": "markdown",
   "id": "3f8ea335",
   "metadata": {},
   "source": [
    "### Sinewave \n",
    "1kHz 3V amplitude on channel 1"
   ]
  },
  {
   "cell_type": "code",
   "execution_count": 10,
   "id": "b3dc696a",
   "metadata": {},
   "outputs": [],
   "source": [
    "awg.channel(1).sine(frequency=1000, amplitude=3.0, offset=0.0, phase=20)\n",
    "time.sleep(0.2) \n",
    "awg.channel(1).on()\n",
    "time.sleep(7)\n",
    "awg.channel(1).off()"
   ]
  },
  {
   "cell_type": "markdown",
   "id": "9b2892f7",
   "metadata": {},
   "source": [
    "### Squarewave\n",
    "1kHz 4V to 2V, 20% duty cycle"
   ]
  },
  {
   "cell_type": "code",
   "execution_count": 11,
   "id": "6a3ac45c",
   "metadata": {},
   "outputs": [],
   "source": [
    "time.sleep(0.2)\n",
    "awg.channel(1).square(frequency=1000, high_level=4, low_level=2, duty_cycle=20)\n",
    "time.sleep(0.2) \n",
    "awg.channel(1).on()\n",
    "time.sleep(5)\n",
    "awg.channel(1).off()"
   ]
  },
  {
   "cell_type": "markdown",
   "id": "994360f3",
   "metadata": {},
   "source": [
    "### Triangle\n"
   ]
  },
  {
   "cell_type": "code",
   "execution_count": 12,
   "id": "fb8011a6",
   "metadata": {},
   "outputs": [],
   "source": [
    "time.sleep(0.2)\n",
    "awg.channel(1).triangle(frequency=1000, amplitude = 3)\n",
    "time.sleep(0.2) \n",
    "awg.channel(1).on()"
   ]
  },
  {
   "cell_type": "markdown",
   "id": "e94d03c6",
   "metadata": {},
   "source": [
    "### Modulation"
   ]
  },
  {
   "cell_type": "code",
   "execution_count": 13,
   "id": "f5298c7b",
   "metadata": {},
   "outputs": [],
   "source": [
    "time.sleep(0.2)\n",
    "awg.channel(1).modulation(type=\"AM\",frequency=1, depth=60)\n",
    "time.sleep(7)\n",
    "\n",
    "time.sleep(0.2)\n",
    "awg.channel(1).modulation(type=\"FM\",frequency=1, deviation=300)\n",
    "time.sleep(7)\n",
    "\n",
    "awg.channel(1).modulation_off()"
   ]
  },
  {
   "cell_type": "markdown",
   "id": "8775a0f2",
   "metadata": {},
   "source": [
    "### Frequency sweep"
   ]
  },
  {
   "cell_type": "code",
   "execution_count": 14,
   "id": "4077f22d",
   "metadata": {},
   "outputs": [],
   "source": [
    "time.sleep(0.2)\n",
    "awg.channel(1).sweep(start_freq=100, stop_freq=10000, mode=\"LINE\")\n",
    "time.sleep(7)\n",
    "awg.channel(1).sweep_off()\n"
   ]
  },
  {
   "cell_type": "markdown",
   "id": "69e3b544",
   "metadata": {},
   "source": [
    "### Burst"
   ]
  },
  {
   "cell_type": "code",
   "execution_count": 15,
   "id": "f68c55e9",
   "metadata": {},
   "outputs": [],
   "source": [
    "time.sleep(0.2)\n",
    "awg.channel(1).burst()\n",
    "time.sleep(10)\n",
    "awg.channel(1).burst_off()\n"
   ]
  }
 ],
 "metadata": {
  "kernelspec": {
   "display_name": "Python 3",
   "language": "python",
   "name": "python3"
  },
  "language_info": {
   "codemirror_mode": {
    "name": "ipython",
    "version": 3
   },
   "file_extension": ".py",
   "mimetype": "text/x-python",
   "name": "python",
   "nbconvert_exporter": "python",
   "pygments_lexer": "ipython3",
   "version": "3.13.5"
  }
 },
 "nbformat": 4,
 "nbformat_minor": 5
}
