{
 "cells": [
  {
   "cell_type": "code",
   "execution_count": 2,
   "id": "71361c2c",
   "metadata": {},
   "outputs": [
    {
     "ename": "ValueError",
     "evalue": "invalid literal for int() with base 10: 'T2,#9000014000TTT'",
     "output_type": "error",
     "traceback": [
      "\u001b[31m---------------------------------------------------------------------------\u001b[39m",
      "\u001b[31mValueError\u001b[39m                                Traceback (most recent call last)",
      "\u001b[36mCell\u001b[39m\u001b[36m \u001b[39m\u001b[32mIn[2]\u001b[39m\u001b[32m, line 33\u001b[39m\n\u001b[32m     31\u001b[39m \u001b[38;5;66;03m#    b) Next N bytes: the ASCII decimal length of the data payload\u001b[39;00m\n\u001b[32m     32\u001b[39m length_str  = inst.read_bytes(num_digits)     \u001b[38;5;66;03m# e.g. b'000000070'\u001b[39;00m\n\u001b[32m---> \u001b[39m\u001b[32m33\u001b[39m data_len    = \u001b[38;5;28;43mint\u001b[39;49m\u001b[43m(\u001b[49m\u001b[43mlength_str\u001b[49m\u001b[43m.\u001b[49m\u001b[43mdecode\u001b[49m\u001b[43m(\u001b[49m\u001b[33;43m'\u001b[39;49m\u001b[33;43mascii\u001b[39;49m\u001b[33;43m'\u001b[39;49m\u001b[43m)\u001b[49m\u001b[43m)\u001b[49m\n\u001b[32m     35\u001b[39m \u001b[38;5;66;03m#    c) Then exactly data_len bytes of waveform payload\u001b[39;00m\n\u001b[32m     36\u001b[39m payload     = inst.read_bytes(data_len)\n",
      "\u001b[31mValueError\u001b[39m: invalid literal for int() with base 10: 'T2,#9000014000TTT'"
     ]
    }
   ],
   "source": [
    "import pyvisa\n",
    "\n",
    "# ─────── Configure VISA ─────────\n",
    "rm = pyvisa.ResourceManager()\n",
    "inst = rm.open_resource(\"TCPIP0::192.168.1.155::5025::SOCKET\")  # replace with your scope’s address\n",
    "\n",
    "# give plenty of time and buffer for large blocks\n",
    "inst.timeout    = 5000        # 5000 ms before timing out\n",
    "inst.chunk_size = 10**6       # 1 MB\n",
    "\n",
    "# ensure line endings are just '\\n' so we see exactly what the scope sends\n",
    "inst.write_termination = '\\n'\n",
    "inst.read_termination  = '\\n'\n",
    "\n",
    "# ─────── Milestone 1 Steps ───────\n",
    "\n",
    "# 1. Disable the ASCII header so the first byte you read is '#'\n",
    "inst.write(\"CHDR OFF\")  \n",
    "\n",
    "# 2. Tell the scope: “Send me every sample, no sparsing, from the first point onward”\n",
    "inst.write(\"WFSU SP,0,NP,0,FP,0\")  \n",
    "\n",
    "# 3. Ask for the full waveform block (DAT2 = header + data + end-flag)\n",
    "inst.write(\"C1:WF? DAT2\")  \n",
    "\n",
    "# 4. Manually read the IEEE-488.2 block:\n",
    "#    a) First two bytes: '#' + a digit N telling how many length-digits follow\n",
    "prefix      = inst.read_bytes(2)              # e.g. b'#9'\n",
    "num_digits  = prefix[1] - ord('0')            # ASCII '9'→ 9\n",
    "\n",
    "#    b) Next N bytes: the ASCII decimal length of the data payload\n",
    "length_str  = inst.read_bytes(num_digits)     # e.g. b'000000070'\n",
    "data_len    = int(length_str.decode('ascii'))\n",
    "\n",
    "#    c) Then exactly data_len bytes of waveform payload\n",
    "payload     = inst.read_bytes(data_len)\n",
    "\n",
    "#    d) Finally the two-byte terminator (usually b'\\n\\n')\n",
    "terminator  = inst.read_bytes(2)\n",
    "\n",
    "# Combine everything into one raw block\n",
    "raw_block = prefix + length_str + payload + terminator\n",
    "\n",
    "# 5. Print the raw bytes as an ASCII-escaped string for easy comparison\n",
    "print(repr(raw_block))\n",
    "\n",
    "# Clean up\n",
    "inst.close()\n",
    "rm.close()\n"
   ]
  }
 ],
 "metadata": {
  "kernelspec": {
   "display_name": "Python 3",
   "language": "python",
   "name": "python3"
  },
  "language_info": {
   "codemirror_mode": {
    "name": "ipython",
    "version": 3
   },
   "file_extension": ".py",
   "mimetype": "text/x-python",
   "name": "python",
   "nbconvert_exporter": "python",
   "pygments_lexer": "ipython3",
   "version": "3.13.5"
  }
 },
 "nbformat": 4,
 "nbformat_minor": 5
}
