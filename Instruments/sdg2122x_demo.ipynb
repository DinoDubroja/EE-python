{
 "cells": [
  {
   "cell_type": "markdown",
   "id": "30b3e1cc",
   "metadata": {},
   "source": [
    "# SDG2122X examples\n",
    "---"
   ]
  },
  {
   "cell_type": "code",
   "execution_count": 1,
   "id": "5fdfe5ad",
   "metadata": {},
   "outputs": [
    {
     "data": {
      "text/plain": [
       "'Siglent Technologies,SDG2122X,SDG2XFBX7R1354,2.01.01.38R4'"
      ]
     },
     "execution_count": 1,
     "metadata": {},
     "output_type": "execute_result"
    }
   ],
   "source": [
    "\n",
    "%load_ext autoreload\n",
    "%autoreload 2\n",
    "\n",
    "from SDG2122X import SDG2122X\n",
    "import time\n",
    "\n",
    "awg = SDG2122X(\"TCPIP0::192.168.1.214::5025::SOCKET\")\n",
    "awg.connect()\n",
    "awg.identify()"
   ]
  },
  {
   "cell_type": "code",
   "execution_count": 3,
   "id": "b3dc696a",
   "metadata": {},
   "outputs": [],
   "source": [
    "awg.wave.sine(frequency=1000, amplitude=3.0, offset=0.0)\n",
    "time.sleep(0.2) \n",
    "awg.wave.on()\n",
    "\n",
    "awg.channel(2).sine(frequency=5000, amplitude=1.5, offset=1.0)\n",
    "time.sleep(0.2)\n",
    "awg.channel(2).on() \n",
    "time.sleep(0.2)\n",
    "\n"
   ]
  },
  {
   "cell_type": "code",
   "execution_count": null,
   "id": "d2a7e333",
   "metadata": {},
   "outputs": [],
   "source": []
  },
  {
   "cell_type": "code",
   "execution_count": 16,
   "id": "fb8011a6",
   "metadata": {},
   "outputs": [],
   "source": [
    "time.sleep(0.2)\n",
    "awg.inst.write(\"C1:MDWV AM,MDSP,SINE\")\n",
    "time.sleep(0.2)\n",
    "awg.inst.write(\"C1:MDWV STATE,ON\")\n",
    "time.sleep(0.2)\n",
    "awg.inst.query(\"C1:MDWV?\")\n",
    "time.sleep(0.2)"
   ]
  },
  {
   "cell_type": "code",
   "execution_count": 8,
   "id": "690e6b30",
   "metadata": {},
   "outputs": [],
   "source": [
    "awg.inst.write(\"C1:MDWV STATE,OFF\")\n",
    "time.sleep(0.2)"
   ]
  },
  {
   "cell_type": "code",
   "execution_count": 7,
   "id": "c8f5dd02",
   "metadata": {},
   "outputs": [
    {
     "data": {
      "text/plain": [
       "45"
      ]
     },
     "execution_count": 7,
     "metadata": {},
     "output_type": "execute_result"
    }
   ],
   "source": [
    "time.sleep(0.2)\n",
    "awg.inst.write(\"C1:MDWV AM,MDSP,SINE,STATE,ON,FRQ,1,DEPTH,80\")"
   ]
  },
  {
   "cell_type": "code",
   "execution_count": null,
   "id": "c7d94c5f",
   "metadata": {},
   "outputs": [
    {
     "name": "stdout",
     "output_type": "stream",
     "text": [
      "AM, 1\n"
     ]
    }
   ],
   "source": [
    "awg.wave.modulation(type=\"AM\", frequency=1)\n",
    "time.sleep(0.2)\n",
    "awg.wave.modulation_on()"
   ]
  },
  {
   "cell_type": "code",
   "execution_count": 14,
   "id": "7e6f462a",
   "metadata": {},
   "outputs": [
    {
     "name": "stderr",
     "output_type": "stream",
     "text": [
      "[autoreload of SDG2122X.core failed: Traceback (most recent call last):\n",
      "  File \"C:\\Users\\dinod\\AppData\\Roaming\\Python\\Python313\\site-packages\\IPython\\extensions\\autoreload.py\", line 322, in check\n",
      "    elif self.deduper_reloader.maybe_reload_module(m):\n",
      "         ~~~~~~~~~~~~~~~~~~~~~~~~~~~~~~~~~~~~~~~~~^^^\n",
      "  File \"C:\\Users\\dinod\\AppData\\Roaming\\Python\\Python313\\site-packages\\IPython\\extensions\\deduperreload\\deduperreload.py\", line 524, in maybe_reload_module\n",
      "    new_source_code = f.read()\n",
      "  File \"c:\\Users\\dinod\\AppData\\Local\\Programs\\Python\\Python313\\Lib\\encodings\\cp1252.py\", line 23, in decode\n",
      "    return codecs.charmap_decode(input,self.errors,decoding_table)[0]\n",
      "           ~~~~~~~~~~~~~~~~~~~~~^^^^^^^^^^^^^^^^^^^^^^^^^^^^^^^^^^\n",
      "UnicodeDecodeError: 'charmap' codec can't decode byte 0x9d in position 208: character maps to <undefined>\n",
      "]\n"
     ]
    }
   ],
   "source": [
    "awg.wave.modulation_off()\n",
    "time.sleep(0.2)\n",
    "awg.wave.off()"
   ]
  },
  {
   "cell_type": "code",
   "execution_count": null,
   "id": "a2814813",
   "metadata": {},
   "outputs": [],
   "source": [
    "awg.output_on(channel=1)\n"
   ]
  },
  {
   "cell_type": "code",
   "execution_count": 4,
   "id": "83f9d042",
   "metadata": {},
   "outputs": [],
   "source": [
    "awg.wave.sweep()\n",
    "time.sleep(0.2)\n",
    "awg.wave.sweep_on()"
   ]
  },
  {
   "cell_type": "code",
   "execution_count": 5,
   "id": "3dc92a00",
   "metadata": {},
   "outputs": [],
   "source": [
    "awg.wave.sweep_off()"
   ]
  }
 ],
 "metadata": {
  "kernelspec": {
   "display_name": "Python 3",
   "language": "python",
   "name": "python3"
  },
  "language_info": {
   "codemirror_mode": {
    "name": "ipython",
    "version": 3
   },
   "file_extension": ".py",
   "mimetype": "text/x-python",
   "name": "python",
   "nbconvert_exporter": "python",
   "pygments_lexer": "ipython3",
   "version": "3.13.5"
  }
 },
 "nbformat": 4,
 "nbformat_minor": 5
}
